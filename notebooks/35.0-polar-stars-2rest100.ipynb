{
 "cells": [
  {
   "cell_type": "markdown",
   "metadata": {},
   "source": [
    "### Check the polarity of inference results based on stars of each review\n",
    "##### data: 100 random cases from 2 restaurants"
   ]
  },
  {
   "cell_type": "code",
   "execution_count": 1,
   "metadata": {},
   "outputs": [],
   "source": [
    "import pandas as pd\n",
    "import json"
   ]
  },
  {
   "cell_type": "code",
   "execution_count": 6,
   "metadata": {},
   "outputs": [
    {
     "data": {
      "text/plain": [
       "[{'sent_id': 'LxMrMDZvwNL7btnuqKYm8g:0',\n",
       "  'text': 'I agree with the previous review.',\n",
       "  'opinions': [{'Source': [['I'], ['0:1']],\n",
       "    'Target': [['review.'], ['26:33']],\n",
       "    'Polar_expression': [['agree'], ['2:7']],\n",
       "    'Polarity': 'Positive',\n",
       "    'Intensity': 'Standard'}]},\n",
       " {'sent_id': 'LxMrMDZvwNL7btnuqKYm8g:1',\n",
       "  'text': 'You can definitely find better restaurants in New Orleans.',\n",
       "  'opinions': [{'Source': [[], []],\n",
       "    'Target': [['restaurants'], ['31:42']],\n",
       "    'Polar_expression': [['better'], ['24:30']],\n",
       "    'Polarity': 'Positive',\n",
       "    'Intensity': 'Standard'}]},\n",
       " {'sent_id': 'LxMrMDZvwNL7btnuqKYm8g:2',\n",
       "  'text': 'Buyer beware: the food does not live up to its hype.',\n",
       "  'opinions': [{'Source': [[], []],\n",
       "    'Target': [['the food'], ['14:22']],\n",
       "    'Polar_expression': [['not live up to its hype.'], ['28:52']],\n",
       "    'Polarity': 'Negative',\n",
       "    'Intensity': 'Standard'}]},\n",
       " {'sent_id': 'gWLiqQWybWwIZS4gT9Spbw:0',\n",
       "  'text': 'Acme has a welcoming atmosphere to a city guy.',\n",
       "  'opinions': [{'Source': [[], []],\n",
       "    'Target': [['atmosphere'], ['21:31']],\n",
       "    'Polar_expression': [['welcoming'], ['11:20']],\n",
       "    'Polarity': 'Positive',\n",
       "    'Intensity': 'Standard'}]},\n",
       " {'sent_id': 'gWLiqQWybWwIZS4gT9Spbw:1',\n",
       "  'text': 'Old, not much natural light, bustling, and kind of dirty like every bar should be.',\n",
       "  'opinions': [{'Source': [[], []],\n",
       "    'Target': [['bar'], ['68:71']],\n",
       "    'Polar_expression': [['should be.'], ['72:82']],\n",
       "    'Polarity': 'Negative',\n",
       "    'Intensity': 'Standard'}]}]"
      ]
     },
     "execution_count": 6,
     "metadata": {},
     "output_type": "execute_result"
    }
   ],
   "source": [
    "# open the inference results\n",
    "\n",
    "with open('../data/yelp/INFER_yelp-food-test_2rest100.conllu.json') as f:\n",
    "    infer = json.load(f)\n",
    "\n",
    "infer[:5]"
   ]
  },
  {
   "cell_type": "code",
   "execution_count": 7,
   "metadata": {},
   "outputs": [
    {
     "data": {
      "text/plain": [
       "[{'review_id': 'LxMrMDZvwNL7btnuqKYm8g',\n",
       "  'user_id': '2ssBdVC1kKKe4wZNDzF5Vw',\n",
       "  'business_id': '_ab50qdWOk0DdB6XOrBitw',\n",
       "  'stars': 1.0,\n",
       "  'useful': 0,\n",
       "  'funny': 0,\n",
       "  'cool': 0,\n",
       "  'text': 'I agree with the previous review.',\n",
       "  'date': '2016-08-22 19:13:22',\n",
       "  'sent_id': 'LxMrMDZvwNL7btnuqKYm8g:0',\n",
       "  'opinions': []},\n",
       " {'review_id': 'LxMrMDZvwNL7btnuqKYm8g',\n",
       "  'user_id': '2ssBdVC1kKKe4wZNDzF5Vw',\n",
       "  'business_id': '_ab50qdWOk0DdB6XOrBitw',\n",
       "  'stars': 1.0,\n",
       "  'useful': 0,\n",
       "  'funny': 0,\n",
       "  'cool': 0,\n",
       "  'text': 'You can definitely find better restaurants in New Orleans.',\n",
       "  'date': '2016-08-22 19:13:22',\n",
       "  'sent_id': 'LxMrMDZvwNL7btnuqKYm8g:1',\n",
       "  'opinions': []},\n",
       " {'review_id': 'LxMrMDZvwNL7btnuqKYm8g',\n",
       "  'user_id': '2ssBdVC1kKKe4wZNDzF5Vw',\n",
       "  'business_id': '_ab50qdWOk0DdB6XOrBitw',\n",
       "  'stars': 1.0,\n",
       "  'useful': 0,\n",
       "  'funny': 0,\n",
       "  'cool': 0,\n",
       "  'text': 'Buyer beware: the food does not live up to its hype.',\n",
       "  'date': '2016-08-22 19:13:22',\n",
       "  'sent_id': 'LxMrMDZvwNL7btnuqKYm8g:2',\n",
       "  'opinions': []},\n",
       " {'review_id': 'gWLiqQWybWwIZS4gT9Spbw',\n",
       "  'user_id': 'ryNLy69uEwBSGQfSl5ZXzg',\n",
       "  'business_id': '_ab50qdWOk0DdB6XOrBitw',\n",
       "  'stars': 3.0,\n",
       "  'useful': 0,\n",
       "  'funny': 0,\n",
       "  'cool': 0,\n",
       "  'text': 'Acme has a welcoming atmosphere to a city guy.',\n",
       "  'date': '2008-09-30 15:00:00',\n",
       "  'sent_id': 'gWLiqQWybWwIZS4gT9Spbw:0',\n",
       "  'opinions': []},\n",
       " {'review_id': 'gWLiqQWybWwIZS4gT9Spbw',\n",
       "  'user_id': 'ryNLy69uEwBSGQfSl5ZXzg',\n",
       "  'business_id': '_ab50qdWOk0DdB6XOrBitw',\n",
       "  'stars': 3.0,\n",
       "  'useful': 0,\n",
       "  'funny': 0,\n",
       "  'cool': 0,\n",
       "  'text': 'Old, not much natural light, bustling, and kind of dirty like every bar should be.',\n",
       "  'date': '2008-09-30 15:00:00',\n",
       "  'sent_id': 'gWLiqQWybWwIZS4gT9Spbw:1',\n",
       "  'opinions': []}]"
      ]
     },
     "execution_count": 7,
     "metadata": {},
     "output_type": "execute_result"
    }
   ],
   "source": [
    "# open the raw reviews\n",
    "\n",
    "with open('../data/yelp/yelp-food-test_2rest100.json') as f:\n",
    "    raw = json.load(f)\n",
    "\n",
    "raw[:5]"
   ]
  },
  {
   "cell_type": "code",
   "execution_count": 19,
   "metadata": {},
   "outputs": [
    {
     "data": {
      "text/plain": [
       "[{'sent_id': 'LxMrMDZvwNL7btnuqKYm8g:0',\n",
       "  'text': 'I agree with the previous review.',\n",
       "  'opinions': [{'Source': [['I'], ['0:1']],\n",
       "    'Target': [['review.'], ['26:33']],\n",
       "    'Polar_expression': [['agree'], ['2:7']],\n",
       "    'Polarity': 'Positive',\n",
       "    'Intensity': 'Standard'}],\n",
       "  'business_id': '_ab50qdWOk0DdB6XOrBitw',\n",
       "  'review_id': 'LxMrMDZvwNL7btnuqKYm8g',\n",
       "  'stars': 1.0,\n",
       "  'polar_ans': False},\n",
       " {'sent_id': 'LxMrMDZvwNL7btnuqKYm8g:1',\n",
       "  'text': 'You can definitely find better restaurants in New Orleans.',\n",
       "  'opinions': [{'Source': [[], []],\n",
       "    'Target': [['restaurants'], ['31:42']],\n",
       "    'Polar_expression': [['better'], ['24:30']],\n",
       "    'Polarity': 'Positive',\n",
       "    'Intensity': 'Standard'}],\n",
       "  'business_id': '_ab50qdWOk0DdB6XOrBitw',\n",
       "  'review_id': 'LxMrMDZvwNL7btnuqKYm8g',\n",
       "  'stars': 1.0,\n",
       "  'polar_ans': False},\n",
       " {'sent_id': 'LxMrMDZvwNL7btnuqKYm8g:2',\n",
       "  'text': 'Buyer beware: the food does not live up to its hype.',\n",
       "  'opinions': [{'Source': [[], []],\n",
       "    'Target': [['the food'], ['14:22']],\n",
       "    'Polar_expression': [['not live up to its hype.'], ['28:52']],\n",
       "    'Polarity': 'Negative',\n",
       "    'Intensity': 'Standard'}],\n",
       "  'business_id': '_ab50qdWOk0DdB6XOrBitw',\n",
       "  'review_id': 'LxMrMDZvwNL7btnuqKYm8g',\n",
       "  'stars': 1.0,\n",
       "  'polar_ans': False},\n",
       " {'sent_id': 'gWLiqQWybWwIZS4gT9Spbw:0',\n",
       "  'text': 'Acme has a welcoming atmosphere to a city guy.',\n",
       "  'opinions': [{'Source': [[], []],\n",
       "    'Target': [['atmosphere'], ['21:31']],\n",
       "    'Polar_expression': [['welcoming'], ['11:20']],\n",
       "    'Polarity': 'Positive',\n",
       "    'Intensity': 'Standard'}],\n",
       "  'business_id': '_ab50qdWOk0DdB6XOrBitw',\n",
       "  'review_id': 'gWLiqQWybWwIZS4gT9Spbw',\n",
       "  'stars': 3.0,\n",
       "  'polar_ans': False},\n",
       " {'sent_id': 'gWLiqQWybWwIZS4gT9Spbw:1',\n",
       "  'text': 'Old, not much natural light, bustling, and kind of dirty like every bar should be.',\n",
       "  'opinions': [{'Source': [[], []],\n",
       "    'Target': [['bar'], ['68:71']],\n",
       "    'Polar_expression': [['should be.'], ['72:82']],\n",
       "    'Polarity': 'Negative',\n",
       "    'Intensity': 'Standard'}],\n",
       "  'business_id': '_ab50qdWOk0DdB6XOrBitw',\n",
       "  'review_id': 'gWLiqQWybWwIZS4gT9Spbw',\n",
       "  'stars': 3.0,\n",
       "  'polar_ans': False}]"
      ]
     },
     "execution_count": 19,
     "metadata": {},
     "output_type": "execute_result"
    }
   ],
   "source": [
    "# add some information (stars, business_id,...) to inferrence from raw reviews\n",
    "\n",
    "for i in range(len(infer)):\n",
    "    raw_one = [j for j in raw if j['sent_id'] == infer[i]['sent_id']][0]\n",
    "    # print(infer[i]['sent_id'], raw_one['sent_id'])\n",
    "    infer[i]['business_id'] = raw_one['business_id']\n",
    "    infer[i]['review_id'] = raw_one['review_id']\n",
    "    infer[i]['stars'] = raw_one['stars']\n",
    "    infer[i]['polar_ans'] = False\n",
    "\n",
    "infer[:5]"
   ]
  },
  {
   "cell_type": "code",
   "execution_count": 21,
   "metadata": {},
   "outputs": [],
   "source": [
    "# output json \n",
    "with open('../data/yelp/ANS-polar-stars_2rest100.json', 'w') as outfile:\n",
    "    json.dump(infer, outfile, indent = 4, ensure_ascii=False)"
   ]
  },
  {
   "cell_type": "code",
   "execution_count": 24,
   "metadata": {},
   "outputs": [
    {
     "name": "stdout",
     "output_type": "stream",
     "text": [
      "total: 710\n",
      "non-empty: 433\n"
     ]
    }
   ],
   "source": [
    "# count the number of non-empty opinions\n",
    "c = 0\n",
    "for i in infer:\n",
    "    if len(i['opinions']) > 0:\n",
    "        c += 1\n",
    "\n",
    "print(f'total: {len(infer)}')\n",
    "print(f'non-empty: {c}')"
   ]
  },
  {
   "cell_type": "code",
   "execution_count": null,
   "metadata": {},
   "outputs": [],
   "source": []
  }
 ],
 "metadata": {
  "kernelspec": {
   "display_name": "Python 3.6.9 ('qwe9887476': venv)",
   "language": "python",
   "name": "python3"
  },
  "language_info": {
   "codemirror_mode": {
    "name": "ipython",
    "version": 3
   },
   "file_extension": ".py",
   "mimetype": "text/x-python",
   "name": "python",
   "nbconvert_exporter": "python",
   "pygments_lexer": "ipython3",
   "version": "3.6.9"
  },
  "orig_nbformat": 4,
  "vscode": {
   "interpreter": {
    "hash": "5bf6df6aca0587c3d575cbe78d8d9df74e83db4ef5eb69188bbfb0803a9e9627"
   }
  }
 },
 "nbformat": 4,
 "nbformat_minor": 2
}
