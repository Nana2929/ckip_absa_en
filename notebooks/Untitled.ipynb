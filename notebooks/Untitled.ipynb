{
 "cells": [
  {
   "cell_type": "code",
   "execution_count": null,
   "id": "782e4cd7-d925-4d12-9167-fa2b2eee7d56",
   "metadata": {},
   "outputs": [],
   "source": [
    "class structs:\n",
    "    def ReviewDict():\n",
    "        return {\n",
    "            'review_id':'', # extra, to keep the review-sentences structure in SemEval 2016 \n",
    "            'sent_id': '',\n",
    "            'text':'',\n",
    "            'opinions':[]\n",
    "        }\n",
    "    def OpnDict():\n",
    "        return {\n",
    "        'Source':[,[]],\n",
    "        'Target':[,[]],\n",
    "        'Polar_expression':[,[]],\n",
    "        'Polarity':'',\n",
    "        'Intensity':'',\n",
    "        'Category': '', # extra, to keep the gold label of category in SemEval 2016 \n",
    "    }"
   ]
  }
 ],
 "metadata": {
  "kernelspec": {
   "display_name": "Python 3",
   "language": "python",
   "name": "python3"
  },
  "language_info": {
   "codemirror_mode": {
    "name": "ipython",
    "version": 3
   },
   "file_extension": ".py",
   "mimetype": "text/x-python",
   "name": "python",
   "nbconvert_exporter": "python",
   "pygments_lexer": "ipython3",
   "version": "3.6.9"
  }
 },
 "nbformat": 4,
 "nbformat_minor": 5
}
