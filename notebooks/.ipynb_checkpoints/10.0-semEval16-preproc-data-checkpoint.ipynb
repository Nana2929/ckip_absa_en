{
 "cells": [
  {
   "cell_type": "markdown",
   "id": "d7f3dd52-b662-4068-995a-443fc4195782",
   "metadata": {},
   "source": [
    "## SemEval16: Dataset Preprocessing \n",
    "\n",
    "goal: preprocess the data to fit the format provided by semEval 2022.\n"
   ]
  },
  {
   "cell_type": "code",
   "execution_count": 5,
   "id": "00cefdbc-316a-49fc-8751-a549e1f6bef6",
   "metadata": {},
   "outputs": [
    {
     "data": {
      "text/plain": [
       "['EN_REST_SB1_TEST-gold.xml',\n",
       " 'EN_REST_SB1_TEST-B.xml',\n",
       " 'ABSA16_Restaurants_Train_SB1_v2.xml',\n",
       " 'EN_REST_SB1_TEST-A.xml']"
      ]
     },
     "execution_count": 5,
     "metadata": {},
     "output_type": "execute_result"
    }
   ],
   "source": [
    "datadir = '../../semEval16/data/'\n",
    "import os, sys\n",
    "queue = []\n",
    "for file in os.listdir(datadir):\n",
    "    if file.endswith('.xml'):\n",
    "        queue.append(file)\n",
    "queue"
   ]
  },
  {
   "cell_type": "markdown",
   "id": "1d3f41f2-f0c9-4774-9018-82fc3794edce",
   "metadata": {},
   "source": [
    "### XML structure "
   ]
  },
  {
   "cell_type": "code",
   "execution_count": 47,
   "id": "64ad19cb-dbbc-4225-bd86-e0e5e0bf83ec",
   "metadata": {},
   "outputs": [
    {
     "name": "stdout",
     "output_type": "stream",
     "text": [
      "Reviews\n",
      "Review {'rid': 'en_BlueRibbonSushi_478218171'}\n",
      "{'id': 'en_BlueRibbonSushi_478218171:0'}\n",
      "Yum!\n",
      "{'target': 'NULL', 'category': 'FOOD#QUALITY', 'polarity': 'positive', 'from': '0', 'to': '0'}\n",
      "{'id': 'en_BlueRibbonSushi_478218171:1'}\n",
      "Serves really good sushi.\n",
      "{'target': 'sushi', 'category': 'FOOD#QUALITY', 'polarity': 'positive', 'from': '19', 'to': '24'}\n",
      "{'id': 'en_BlueRibbonSushi_478218171:2'}\n",
      "Not the biggest portions but adequate.\n",
      "{'target': 'portions', 'category': 'FOOD#STYLE_OPTIONS', 'polarity': 'neutral', 'from': '16', 'to': '24'}\n",
      "{'id': 'en_BlueRibbonSushi_478218171:3'}\n",
      "Green Tea creme brulee is a must!\n",
      "{'target': 'Green Tea creme brulee', 'category': 'FOOD#QUALITY', 'polarity': 'positive', 'from': '0', 'to': '22'}\n",
      "{'id': 'en_BlueRibbonSushi_478218171:4'}\n",
      "Don't leave the restaurant without it.\n",
      "{'target': 'NULL', 'category': 'FOOD#QUALITY', 'polarity': 'positive', 'from': '0', 'to': '0'}\n"
     ]
    }
   ],
   "source": [
    "from xml.etree import ElementTree as ET\n",
    "\n",
    "filename = f'{datadir}/{queue[0]}'\n",
    "tree = ET.parse(filename)\n",
    "root = tree.getroot()\n",
    "print(root.tag)\n",
    "for review in root:\n",
    "    print(review.tag, review.attrib)\n",
    "    sentences = review.find('sentences')\n",
    "    for sentence in sentences.findall('sentence'):\n",
    "        print(sentence.attrib)\n",
    "        senttext = sentence.find('text')\n",
    "        opinions = sentence.find('Opinions')\n",
    "        print(senttext.text)\n",
    "        opinions = opinions.findall('Opinion')\n",
    "        print(opinions[0].attrib)  \n",
    "    break "
   ]
  },
  {
   "cell_type": "markdown",
   "id": "8bc4d43f-fea7-46a0-9200-0619ca0af873",
   "metadata": {},
   "source": [
    "### SemEval 2022 Data Structure"
   ]
  },
  {
   "cell_type": "code",
   "execution_count": 86,
   "id": "14177752-357b-4e65-8ded-2e337814d9ef",
   "metadata": {},
   "outputs": [
    {
     "ename": "NameError",
     "evalue": "name 'self' is not defined",
     "output_type": "error",
     "traceback": [
      "\u001b[0;31m---------------------------------------------------------------------------\u001b[0m",
      "\u001b[0;31mNameError\u001b[0m                                 Traceback (most recent call last)",
      "\u001b[0;32m<ipython-input-86-d1d77eb3205c>\u001b[0m in \u001b[0;36m<module>\u001b[0;34m\u001b[0m\n\u001b[0;32m----> 1\u001b[0;31m \u001b[0;32mclass\u001b[0m \u001b[0mstructs\u001b[0m\u001b[0;34m:\u001b[0m\u001b[0;34m\u001b[0m\u001b[0;34m\u001b[0m\u001b[0m\n\u001b[0m\u001b[1;32m      2\u001b[0m     \u001b[0;32mfrom\u001b[0m \u001b[0mcopy\u001b[0m \u001b[0;32mimport\u001b[0m \u001b[0mdeepcopy\u001b[0m\u001b[0;34m\u001b[0m\u001b[0;34m\u001b[0m\u001b[0m\n\u001b[1;32m      3\u001b[0m     self.RD = {\n\u001b[1;32m      4\u001b[0m             \u001b[0;34m'review_id'\u001b[0m\u001b[0;34m:\u001b[0m\u001b[0;34m''\u001b[0m\u001b[0;34m,\u001b[0m \u001b[0;31m# extra, to keep the review-sentences structure in SemEval 2016\u001b[0m\u001b[0;34m\u001b[0m\u001b[0;34m\u001b[0m\u001b[0m\n\u001b[1;32m      5\u001b[0m             \u001b[0;34m'sent_id'\u001b[0m\u001b[0;34m:\u001b[0m \u001b[0;34m''\u001b[0m\u001b[0;34m,\u001b[0m\u001b[0;34m\u001b[0m\u001b[0;34m\u001b[0m\u001b[0m\n",
      "\u001b[0;32m<ipython-input-86-d1d77eb3205c>\u001b[0m in \u001b[0;36mstructs\u001b[0;34m()\u001b[0m\n\u001b[1;32m      5\u001b[0m             \u001b[0;34m'sent_id'\u001b[0m\u001b[0;34m:\u001b[0m \u001b[0;34m''\u001b[0m\u001b[0;34m,\u001b[0m\u001b[0;34m\u001b[0m\u001b[0;34m\u001b[0m\u001b[0m\n\u001b[1;32m      6\u001b[0m             \u001b[0;34m'text'\u001b[0m\u001b[0;34m:\u001b[0m\u001b[0;34m''\u001b[0m\u001b[0;34m,\u001b[0m\u001b[0;34m\u001b[0m\u001b[0;34m\u001b[0m\u001b[0m\n\u001b[0;32m----> 7\u001b[0;31m             \u001b[0;34m'opinions'\u001b[0m\u001b[0;34m:\u001b[0m\u001b[0;34m[\u001b[0m\u001b[0;34m]\u001b[0m\u001b[0;34m\u001b[0m\u001b[0;34m\u001b[0m\u001b[0m\n\u001b[0m\u001b[1;32m      8\u001b[0m         }\n\u001b[1;32m      9\u001b[0m     self.OPD =  {\n",
      "\u001b[0;31mNameError\u001b[0m: name 'self' is not defined"
     ]
    }
   ],
   "source": [
    "\n",
    "class structs:\n",
    "    def ReviewDict():\n",
    "        return {\n",
    "            'review_id':'', # extra, to keep the review-sentences structure in SemEval 2016 \n",
    "            'sent_id': '',\n",
    "            'text':'',\n",
    "            'opinions':[]\n",
    "        }\n",
    "    def OpnDict():\n",
    "        return {\n",
    "        'Source':[[],[]],\n",
    "        'Target':[[],[]],\n",
    "        'Polar_expression':[[],[]],\n",
    "        'Polarity':'',\n",
    "        'Intensity':'',\n",
    "        'Category': '', # extra, to keep the gold label of category in SemEval 2016 \n",
    "    }"
   ]
  },
  {
   "cell_type": "code",
   "execution_count": 80,
   "id": "cb11b090-d2d4-4187-8bb9-c507a4f57aea",
   "metadata": {},
   "outputs": [],
   "source": [
    "### "
   ]
  },
  {
   "cell_type": "code",
   "execution_count": 85,
   "id": "f531bc8e-5398-4bee-ba33-021a7a3b65b6",
   "metadata": {},
   "outputs": [
    {
     "name": "stdout",
     "output_type": "stream",
     "text": [
      "Reviews\n",
      "Review en_BlueRibbonSushi_478218171\n"
     ]
    },
    {
     "ename": "TypeError",
     "evalue": "ReviewDict() missing 1 required positional argument: 'self'",
     "output_type": "error",
     "traceback": [
      "\u001b[0;31m---------------------------------------------------------------------------\u001b[0m",
      "\u001b[0;31mTypeError\u001b[0m                                 Traceback (most recent call last)",
      "\u001b[0;32m<ipython-input-85-839e643d6e22>\u001b[0m in \u001b[0;36m<module>\u001b[0;34m\u001b[0m\n\u001b[1;32m     12\u001b[0m \u001b[0;34m\u001b[0m\u001b[0m\n\u001b[1;32m     13\u001b[0m     \u001b[0;32mfor\u001b[0m \u001b[0msentence\u001b[0m \u001b[0;32min\u001b[0m \u001b[0msentences\u001b[0m\u001b[0;34m.\u001b[0m\u001b[0mfindall\u001b[0m\u001b[0;34m(\u001b[0m\u001b[0;34m'sentence'\u001b[0m\u001b[0;34m)\u001b[0m\u001b[0;34m:\u001b[0m\u001b[0;34m\u001b[0m\u001b[0;34m\u001b[0m\u001b[0m\n\u001b[0;32m---> 14\u001b[0;31m         \u001b[0mRD\u001b[0m \u001b[0;34m=\u001b[0m \u001b[0mstructs\u001b[0m\u001b[0;34m.\u001b[0m\u001b[0mReviewDict\u001b[0m\u001b[0;34m(\u001b[0m\u001b[0;34m)\u001b[0m\u001b[0;34m\u001b[0m\u001b[0;34m\u001b[0m\u001b[0m\n\u001b[0m\u001b[1;32m     15\u001b[0m         \u001b[0mRD\u001b[0m\u001b[0;34m[\u001b[0m\u001b[0;34m'review_id'\u001b[0m\u001b[0;34m]\u001b[0m \u001b[0;34m=\u001b[0m \u001b[0mreview\u001b[0m\u001b[0;34m.\u001b[0m\u001b[0mattrib\u001b[0m\u001b[0;34m[\u001b[0m\u001b[0;34m'rid'\u001b[0m\u001b[0;34m]\u001b[0m\u001b[0;34m\u001b[0m\u001b[0;34m\u001b[0m\u001b[0m\n\u001b[1;32m     16\u001b[0m         \u001b[0mRD\u001b[0m\u001b[0;34m[\u001b[0m\u001b[0;34m'sent_id'\u001b[0m\u001b[0;34m]\u001b[0m \u001b[0;34m=\u001b[0m \u001b[0msentence\u001b[0m\u001b[0;34m.\u001b[0m\u001b[0mattrib\u001b[0m\u001b[0;34m[\u001b[0m\u001b[0;34m'id'\u001b[0m\u001b[0;34m]\u001b[0m\u001b[0;34m\u001b[0m\u001b[0;34m\u001b[0m\u001b[0m\n",
      "\u001b[0;31mTypeError\u001b[0m: ReviewDict() missing 1 required positional argument: 'self'"
     ]
    }
   ],
   "source": [
    "from xml.etree import ElementTree as ET\n",
    "\n",
    "\n",
    "filename = f'{datadir}/{queue[0]}'\n",
    "tree = ET.parse(filename)\n",
    "root = tree.getroot()\n",
    "print(root.tag)\n",
    "for review in root:\n",
    "    print(review.tag, review.attrib['rid'])\n",
    "    \n",
    "    sentences = review.find('sentences')\n",
    "    \n",
    "    for sentence in sentences.findall('sentence'):\n",
    "        RD = structs.ReviewDict()\n",
    "        RD['review_id'] = review.attrib['rid']\n",
    "        RD['sent_id'] = sentence.attrib['id']\n",
    "        RD['text'] = sentence.find('text').text\n",
    "        \n",
    "        opinions = sentence.find('Opinions')\n",
    "        opinions = opinions.findall('Opinion')\n",
    "        for op in opinions:\n",
    "            print(op.attrib)\n",
    "            op = op.attrib\n",
    "            OPD = structs.OpnDict()\n",
    "\n",
    "            if op['target'] == 'NULL': \n",
    "                target = [[], []]\n",
    "            else: target = [op['target'], [f\"{op['from']}:{op['to']}\"]]\n",
    "            # skip Source\n",
    "            print(target)\n",
    "            OPD['Target'] = target\n",
    "            OPD['Polarity'] = op['polarity']\n",
    "            OPD['Category'] = op['category']\n",
    "            \n",
    "            RD['opinions'].append(OPD)       \n",
    "    break \n"
   ]
  },
  {
   "cell_type": "code",
   "execution_count": 65,
   "id": "06885d35-1a93-4691-bcaf-3dfcfc5a1712",
   "metadata": {},
   "outputs": [
    {
     "data": {
      "text/plain": [
       "{'sent_id': 'en_BlueRibbonSushi_478218171:4',\n",
       " 'text': \"Don't leave the restaurant without it.\",\n",
       " 'opinions': [{'Source': [[], []],\n",
       "   'Target': [[], []],\n",
       "   'Polar_expression': [[], []],\n",
       "   'Polarity': 'positive',\n",
       "   'Intensity': '',\n",
       "   'Category': 'FOOD#QUALITY'},\n",
       "  {'Source': [[], []],\n",
       "   'Target': [[], []],\n",
       "   'Polar_expression': [[], []],\n",
       "   'Polarity': 'positive',\n",
       "   'Intensity': '',\n",
       "   'Category': 'FOOD#QUALITY'},\n",
       "  {'Source': [[], []],\n",
       "   'Target': [[], []],\n",
       "   'Polar_expression': [[], []],\n",
       "   'Polarity': 'positive',\n",
       "   'Intensity': '',\n",
       "   'Category': 'FOOD#QUALITY'},\n",
       "  {'Source': [[], []],\n",
       "   'Target': [[], []],\n",
       "   'Polar_expression': [[], []],\n",
       "   'Polarity': 'positive',\n",
       "   'Intensity': '',\n",
       "   'Category': 'FOOD#QUALITY'},\n",
       "  {'Source': [[], []],\n",
       "   'Target': [[], []],\n",
       "   'Polar_expression': [[], []],\n",
       "   'Polarity': 'positive',\n",
       "   'Intensity': '',\n",
       "   'Category': 'FOOD#QUALITY'}],\n",
       " 'review_id': 'en_BlueRibbonSushi_478218171'}"
      ]
     },
     "execution_count": 65,
     "metadata": {},
     "output_type": "execute_result"
    }
   ],
   "source": [
    "RD"
   ]
  },
  {
   "cell_type": "code",
   "execution_count": null,
   "id": "b32ecd3b-e013-4280-a8de-e968aa4eba2b",
   "metadata": {},
   "outputs": [],
   "source": []
  }
 ],
 "metadata": {
  "kernelspec": {
   "display_name": "Python 3",
   "language": "python",
   "name": "python3"
  },
  "language_info": {
   "codemirror_mode": {
    "name": "ipython",
    "version": 3
   },
   "file_extension": ".py",
   "mimetype": "text/x-python",
   "name": "python",
   "nbconvert_exporter": "python",
   "pygments_lexer": "ipython3",
   "version": "3.6.9"
  }
 },
 "nbformat": 4,
 "nbformat_minor": 5
}
