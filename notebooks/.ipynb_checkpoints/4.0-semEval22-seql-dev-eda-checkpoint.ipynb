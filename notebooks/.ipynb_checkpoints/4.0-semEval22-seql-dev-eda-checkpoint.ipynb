{
 "cells": [
  {
   "cell_type": "markdown",
   "id": "c2ab9fd9-eb5e-45dd-b0bd-d1f369c868b1",
   "metadata": {},
   "source": [
    "## SemEval 2022 Dev set EDA: Seq-labeling Baseline\n",
    "- Author: Nana\n",
    "- Created: 2022.7.19\n",
    "\n",
    "\n",
    "The below is taken from [seq-labeling Github](https://github.com/jerbarnes/semeval22_structured_sentiment/tree/master/baselines/sequence_labeling).\n",
    "- Pipelined; first train 3 separate models that extract the 3 sub-elements (holders, targets, expressions) using sequence labeler (BiLSTM, 1-layer, 100 hidden-dim) for 10 epochs\n",
    "- Finally, traina relation prediction model (BiLSTM + max-pooling) to create contextualized representations of 1) the full text, 2) the first element (either a holder or target) and 3) the sentiment expression.\n",
    "- These three representations are then concatenated and passed to a linear layer followed by a sigmoid function. The training consists of predicting whether two elements have a relationship or not, converting the problem in binary classification.\n",
    "\n",
    "- Each dataset is trained alone (7 datasets * (3+1) models = 28 models).\n",
    "- The best development scores (metrics: Macro F1)\n",
    "\n",
    "|annotation_type|  darmstadt_unis  |  mpqa  |  opener_en |\n",
    "|-----------|-----------|-------------|--------|\n",
    "|sources    |      0.547     |      0.432       |    0.779    |\n",
    "|targets    |       0.459    |         0.511    |      0.726  |\n",
    "|expressions|     0.243      |       0.320     |    0.577    |\n",
    "|relations|   0.435        |      0.709       |      0.701  |\n"
   ]
  },
  {
   "cell_type": "code",
   "execution_count": 1,
   "id": "77d08c2e-bf86-48b8-99af-83269564df8a",
   "metadata": {},
   "outputs": [],
   "source": [
    "model_dir = '../Structured_Sentiment/baselines/sequence_labeling/saved_models'\n",
    "predictions_dir = f'{model_dir}/relation_prediction'"
   ]
  },
  {
   "cell_type": "code",
   "execution_count": null,
   "id": "bfc06b4b-00a0-4f1e-a901-2fbe587832b1",
   "metadata": {},
   "outputs": [],
   "source": [
    "DATASETS = ['darmstadt_unis', 'mpqa', 'opener_en']\n"
   ]
  },
  {
   "cell_type": "markdown",
   "id": "d0bb9562-447d-4dd8-9a06-a0316ea809dd",
   "metadata": {},
   "source": [
    "### Extraction models"
   ]
  },
  {
   "cell_type": "code",
   "execution_count": 2,
   "id": "520e2daa-6448-4660-be3b-60d595450bc2",
   "metadata": {},
   "outputs": [],
   "source": [
    "#### A. opener_en"
   ]
  },
  {
   "cell_type": "code",
   "execution_count": null,
   "id": "ca77de4c-d06e-4cd5-8afe-763701c591cf",
   "metadata": {},
   "outputs": [],
   "source": []
  }
 ],
 "metadata": {
  "kernelspec": {
   "display_name": "Python 3",
   "language": "python",
   "name": "python3"
  },
  "language_info": {
   "codemirror_mode": {
    "name": "ipython",
    "version": 3
   },
   "file_extension": ".py",
   "mimetype": "text/x-python",
   "name": "python",
   "nbconvert_exporter": "python",
   "pygments_lexer": "ipython3",
   "version": "3.6.9"
  }
 },
 "nbformat": 4,
 "nbformat_minor": 5
}
