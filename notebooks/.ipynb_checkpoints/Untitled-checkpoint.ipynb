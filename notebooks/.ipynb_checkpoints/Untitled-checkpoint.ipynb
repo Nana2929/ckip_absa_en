{
 "cells": [
  {
   "cell_type": "code",
   "execution_count": 1,
   "id": "fa9bd85a-98fb-4680-b051-07f67eb587cc",
   "metadata": {},
   "outputs": [],
   "source": [
    "import json"
   ]
  },
  {
   "cell_type": "code",
   "execution_count": 2,
   "id": "921e6196-c05d-4d6d-98ec-271b8d068dba",
   "metadata": {},
   "outputs": [],
   "source": [
    "with open('../semEval16/graph_parser/predictions/test-gold/opener_en_prediction.json') as f:\n",
    "    data = json.load(f)"
   ]
  },
  {
   "cell_type": "code",
   "execution_count": 12,
   "id": "f588b078-8c7f-414e-94a4-0711e1d1fb09",
   "metadata": {},
   "outputs": [
    {
     "data": {
      "text/plain": [
       "{'sent_id': 'en_BlueRibbonSushi_478218171:2',\n",
       " 'text': 'Not the biggest portions but adequate.',\n",
       " 'opinions': [{'Source': [[], []],\n",
       "   'Target': [['portions'], ['16:24']],\n",
       "   'Polar_expression': [['Not the biggest'], ['0:15']],\n",
       "   'Polarity': 'Negative',\n",
       "   'Intensity': 'Standard'},\n",
       "  {'Source': [[], []],\n",
       "   'Target': [['portions'], ['16:24']],\n",
       "   'Polar_expression': [['adequate.'], ['29:38']],\n",
       "   'Polarity': 'Negative',\n",
       "   'Intensity': 'Standard'}]}"
      ]
     },
     "execution_count": 12,
     "metadata": {},
     "output_type": "execute_result"
    }
   ],
   "source": [
    "data[2]"
   ]
  },
  {
   "cell_type": "code",
   "execution_count": 36,
   "id": "8f5d7752-a10f-4e72-acf1-f1d02ab27839",
   "metadata": {},
   "outputs": [
    {
     "data": {
      "text/plain": [
       "'portions'"
      ]
     },
     "execution_count": 36,
     "metadata": {},
     "output_type": "execute_result"
    }
   ],
   "source": [
    "data[2]['opinions'][0]['Target'][0][0]"
   ]
  },
  {
   "cell_type": "code",
   "execution_count": 14,
   "id": "46ca18fe-8ba4-4f6b-a23d-bf8369727c96",
   "metadata": {},
   "outputs": [
    {
     "data": {
      "text/plain": [
       "2"
      ]
     },
     "execution_count": 14,
     "metadata": {},
     "output_type": "execute_result"
    }
   ],
   "source": [
    "len(data[2]['opinions'])"
   ]
  },
  {
   "cell_type": "code",
   "execution_count": 39,
   "id": "e99f9f0c-7d95-4dfd-b2ad-aa5909453ec2",
   "metadata": {},
   "outputs": [
    {
     "ename": "TypeError",
     "evalue": "unhashable type: 'list'",
     "output_type": "error",
     "traceback": [
      "\u001b[0;31m---------------------------------------------------------------------------\u001b[0m",
      "\u001b[0;31mTypeError\u001b[0m                                 Traceback (most recent call last)",
      "\u001b[0;32m<ipython-input-39-2fbd46693c04>\u001b[0m in \u001b[0;36m<module>\u001b[0;34m\u001b[0m\n\u001b[1;32m     30\u001b[0m                     \u001b[0md\u001b[0m\u001b[0;34m[\u001b[0m\u001b[0mv\u001b[0m\u001b[0;34m]\u001b[0m \u001b[0;34m=\u001b[0m \u001b[0mv\u001b[0m\u001b[0;34m[\u001b[0m\u001b[0;36m0\u001b[0m\u001b[0;34m]\u001b[0m\u001b[0;34m\u001b[0m\u001b[0;34m\u001b[0m\u001b[0m\n\u001b[1;32m     31\u001b[0m                 \u001b[0;32melse\u001b[0m\u001b[0;34m:\u001b[0m\u001b[0;34m\u001b[0m\u001b[0;34m\u001b[0m\u001b[0m\n\u001b[0;32m---> 32\u001b[0;31m                     \u001b[0md\u001b[0m\u001b[0;34m[\u001b[0m\u001b[0mv\u001b[0m\u001b[0;34m]\u001b[0m \u001b[0;34m=\u001b[0m \u001b[0;32mNone\u001b[0m\u001b[0;34m\u001b[0m\u001b[0;34m\u001b[0m\u001b[0m\n\u001b[0m\u001b[1;32m     33\u001b[0m \u001b[0;34m\u001b[0m\u001b[0m\n\u001b[1;32m     34\u001b[0m             \u001b[0md\u001b[0m\u001b[0;34m[\u001b[0m\u001b[0;34m'Polarity'\u001b[0m\u001b[0;34m]\u001b[0m \u001b[0;34m=\u001b[0m \u001b[0mdata\u001b[0m\u001b[0;34m[\u001b[0m\u001b[0mi\u001b[0m\u001b[0;34m]\u001b[0m\u001b[0;34m[\u001b[0m\u001b[0;34m'opinions'\u001b[0m\u001b[0;34m]\u001b[0m\u001b[0;34m[\u001b[0m\u001b[0mj\u001b[0m\u001b[0;34m]\u001b[0m\u001b[0;34m[\u001b[0m\u001b[0;34m'Polarity'\u001b[0m\u001b[0;34m]\u001b[0m\u001b[0;34m\u001b[0m\u001b[0;34m\u001b[0m\u001b[0m\n",
      "\u001b[0;31mTypeError\u001b[0m: unhashable type: 'list'"
     ]
    }
   ],
   "source": [
    "alldata = []\n",
    "\n",
    "for i in range(5):\n",
    "    \n",
    "    if len(data[i]['opinions']) == 0:\n",
    "        # print(data[i]['sent_id'])\n",
    "        seq = ('sent_id', 'text', 'Source', 'Target', 'Polar_expression', 'Polarity')\n",
    "        d = dict.fromkeys(seq)\n",
    "        \n",
    "        d['sent_id'] = data[i]['sent_id']\n",
    "        d['text'] = data[i]['text']\n",
    "        alldata.append(d)\n",
    "        \n",
    "    else:       \n",
    "        for j in range(len(data[i]['opinions'])):\n",
    "            # print(data[i]['sent_id'], data[i]['opinions'][j])\n",
    "            seq = ('sent_id', 'text', 'Source', 'Target', 'Polar_expression', 'Polarity')\n",
    "            d = dict.fromkeys(seq)\n",
    "\n",
    "            d['sent_id'] = data[i]['sent_id']\n",
    "            d['text'] = data[i]['text']\n",
    "            \n",
    "            Source = data[i]['opinions'][j]['Source'][0]\n",
    "            Target = data[i]['opinions'][j]['Target'][0]\n",
    "            Polar_expression = data[i]['opinions'][j]['Polar_expression'][0]\n",
    "            ls = [Source, Target, Polar_expression]\n",
    "            \n",
    "            for v in ls:\n",
    "                if len(v) != 0:\n",
    "                    d[v] = v[0]\n",
    "                else:\n",
    "                    d[v] = None\n",
    "                \n",
    "            d['Polarity'] = data[i]['opinions'][j]['Polarity']\n",
    "            alldata.append(d)\n",
    "\n",
    "alldata"
   ]
  },
  {
   "cell_type": "code",
   "execution_count": null,
   "id": "941b1d33-0201-4ffa-af34-a3ae7b7c1e6b",
   "metadata": {},
   "outputs": [],
   "source": []
  }
 ],
 "metadata": {
  "kernelspec": {
   "display_name": "Python 3",
   "language": "python",
   "name": "python3"
  },
  "language_info": {
   "codemirror_mode": {
    "name": "ipython",
    "version": 3
   },
   "file_extension": ".py",
   "mimetype": "text/x-python",
   "name": "python",
   "nbconvert_exporter": "python",
   "pygments_lexer": "ipython3",
   "version": "3.6.9"
  }
 },
 "nbformat": 4,
 "nbformat_minor": 5
}
